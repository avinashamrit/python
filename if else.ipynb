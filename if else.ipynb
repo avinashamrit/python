{
 "cells": [
  {
   "cell_type": "code",
   "execution_count": 1,
   "id": "3b2a9b57",
   "metadata": {},
   "outputs": [],
   "source": [
    "a = 10\n",
    "if a >5 :\n",
    "    pass"
   ]
  },
  {
   "cell_type": "code",
   "execution_count": 2,
   "id": "ec156d35",
   "metadata": {},
   "outputs": [
    {
     "data": {
      "text/plain": [
       "10"
      ]
     },
     "execution_count": 2,
     "metadata": {},
     "output_type": "execute_result"
    }
   ],
   "source": [
    "a"
   ]
  },
  {
   "cell_type": "code",
   "execution_count": 3,
   "id": "70dcea1e",
   "metadata": {},
   "outputs": [],
   "source": [
    "a = 10 \n",
    "if a <8 :\n",
    "    print(\"hello \")"
   ]
  },
  {
   "cell_type": "code",
   "execution_count": 4,
   "id": "afa2f55a",
   "metadata": {},
   "outputs": [
    {
     "data": {
      "text/plain": [
       "7"
      ]
     },
     "execution_count": 4,
     "metadata": {},
     "output_type": "execute_result"
    }
   ],
   "source": [
    "7"
   ]
  },
  {
   "cell_type": "code",
   "execution_count": 5,
   "id": "933d3d79",
   "metadata": {},
   "outputs": [
    {
     "name": "stdout",
     "output_type": "stream",
     "text": [
      "Hello\n"
     ]
    }
   ],
   "source": [
    "a = 10\n",
    "if a == 11 :\n",
    "    print(\"My condition is false\")\n",
    "    \n",
    "else :\n",
    "    print(\"Hello\")"
   ]
  },
  {
   "cell_type": "code",
   "execution_count": 6,
   "id": "82df79fe",
   "metadata": {},
   "outputs": [
    {
     "name": "stdout",
     "output_type": "stream",
     "text": [
      "we are trying to compare 10 with 11\n"
     ]
    }
   ],
   "source": [
    "a = 10\n",
    "if a == 12 :\n",
    "    print(\"here we are trying to compare 10 with 12\")\n",
    "elif a ==10:\n",
    "    print(\"we are trying to compare 10 with 11\")\n",
    "else :\n",
    "    print(\"if all the blocks will fail then do this\")"
   ]
  },
  {
   "cell_type": "code",
   "execution_count": 7,
   "id": "addc1487",
   "metadata": {},
   "outputs": [],
   "source": [
    "price = 500\n",
    "if price > 500 :\n",
    "    print(\"may be i wont to buy a jacket\")\n",
    "elif price < 500 :\n",
    "    print(\"i will be able to buy a jacket\")"
   ]
  },
  {
   "cell_type": "code",
   "execution_count": 8,
   "id": "5201f41c",
   "metadata": {},
   "outputs": [
    {
     "name": "stdout",
     "output_type": "stream",
     "text": [
      "for sure i will be able to buy \n"
     ]
    }
   ],
   "source": [
    "price = 500\n",
    "if price > 500 :\n",
    "    print(\"may be i wont to buy a jacket\")\n",
    "elif price < 500 :\n",
    "    print(\"i will be able to buy a jacket\")\n",
    "    \n",
    "elif  price == 500 :\n",
    "    print(\"for sure i will be able to buy \")\n",
    "    \n",
    "else :\n",
    "    print(\"i dont know\")"
   ]
  },
  {
   "cell_type": "code",
   "execution_count": 9,
   "id": "d69f7b5b",
   "metadata": {},
   "outputs": [
    {
     "data": {
      "text/plain": [
       "False"
      ]
     },
     "execution_count": 9,
     "metadata": {},
     "output_type": "execute_result"
    }
   ],
   "source": [
    "price > 500"
   ]
  },
  {
   "cell_type": "code",
   "execution_count": 10,
   "id": "869545eb",
   "metadata": {},
   "outputs": [
    {
     "data": {
      "text/plain": [
       "False"
      ]
     },
     "execution_count": 10,
     "metadata": {},
     "output_type": "execute_result"
    }
   ],
   "source": [
    "price <500"
   ]
  },
  {
   "cell_type": "code",
   "execution_count": 11,
   "id": "5fb41069",
   "metadata": {},
   "outputs": [
    {
     "data": {
      "text/plain": [
       "True"
      ]
     },
     "execution_count": 11,
     "metadata": {},
     "output_type": "execute_result"
    }
   ],
   "source": [
    "price >400"
   ]
  },
  {
   "cell_type": "code",
   "execution_count": 12,
   "id": "0269ec17",
   "metadata": {},
   "outputs": [
    {
     "data": {
      "text/plain": [
       "True"
      ]
     },
     "execution_count": 12,
     "metadata": {},
     "output_type": "execute_result"
    }
   ],
   "source": [
    "price >=500"
   ]
  },
  {
   "cell_type": "code",
   "execution_count": 13,
   "id": "93fc8276",
   "metadata": {},
   "outputs": [
    {
     "data": {
      "text/plain": [
       "True"
      ]
     },
     "execution_count": 13,
     "metadata": {},
     "output_type": "execute_result"
    }
   ],
   "source": [
    "price<=500"
   ]
  },
  {
   "cell_type": "code",
   "execution_count": 25,
   "id": "9ecd3b53",
   "metadata": {},
   "outputs": [
    {
     "name": "stdout",
     "output_type": "stream",
     "text": [
      "200\n",
      "i will able  to buy something\n",
      "i will be able to buy a jacket\n"
     ]
    }
   ],
   "source": [
    "price = int(input())\n",
    "if price <500 :\n",
    "    print(\"i will able  to buy something\")\n",
    "    if price < 400 :\n",
    "        print(\"i will be able to buy a jacket\")\n",
    "    \n",
    "    elif  price < 300 :\n",
    "        print(\" i will able to buy  shirt\")\n",
    "    \n",
    "    else :\n",
    "        print(\"i wont be able to buy anything\")\n",
    "    \n",
    "else :\n",
    "    print(\"i wont be able to buy anything with this price tag\")"
   ]
  },
  {
   "cell_type": "code",
   "execution_count": 21,
   "id": "84fe69ae",
   "metadata": {},
   "outputs": [
    {
     "data": {
      "text/plain": [
       "600"
      ]
     },
     "execution_count": 21,
     "metadata": {},
     "output_type": "execute_result"
    }
   ],
   "source": [
    "600"
   ]
  },
  {
   "cell_type": "code",
   "execution_count": 31,
   "id": "201fe357",
   "metadata": {},
   "outputs": [
    {
     "name": "stdout",
     "output_type": "stream",
     "text": [
      "300\n",
      "NO GRE\n",
      "TOFFEL\n",
      "Try something else\n"
     ]
    }
   ],
   "source": [
    "marks = int(input())\n",
    "if marks < 600:\n",
    "    print(\"NO GRE\")\n",
    "    if marks < 500:\n",
    "        print(\"TOFFEL\")\n",
    "        if marks < 400:\n",
    "            print(\"Try something else\")\n",
    "            \n",
    "        else:\n",
    "            print(\"You GOT TOFFEL\")\n",
    "else: \n",
    "    print(\"You Are got GRE congratulations\")"
   ]
  },
  {
   "cell_type": "code",
   "execution_count": 34,
   "id": "113eebb6",
   "metadata": {},
   "outputs": [
    {
     "name": "stdout",
     "output_type": "stream",
     "text": [
      "enter a floating point number0\n",
      "entered value is zero\n"
     ]
    }
   ],
   "source": [
    "val = float(input(\"enter a floating point number\")) \n",
    "if val >=0 :\n",
    "    if val ==0 :\n",
    "        print(\"entered value is zero\")\n",
    "    else :\n",
    "        print(\"enter value is a positive number\")\n",
    "else :\n",
    "    print(\"entered number is a neagtive number\")\n",
    "    "
   ]
  },
  {
   "cell_type": "code",
   "execution_count": 38,
   "id": "1a6fd086",
   "metadata": {},
   "outputs": [
    {
     "name": "stdout",
     "output_type": "stream",
     "text": [
      "this is sudh\n"
     ]
    }
   ],
   "source": [
    "a = \"sudh\"\n",
    "if a == \"sudh\" or a==\"Sudh\":\n",
    "   print(\"this is sudh\")"
   ]
  },
  {
   "cell_type": "code",
   "execution_count": 42,
   "id": "888f4ac3",
   "metadata": {},
   "outputs": [
    {
     "name": "stdout",
     "output_type": "stream",
     "text": [
      "lets do something\n"
     ]
    }
   ],
   "source": [
    "a = 10\n",
    "b = 11\n",
    "c = 12\n",
    "d = 13\n",
    "if a == 9 or b == 11 and c == 12 and d == 13:\n",
    "    print(\"lets do something\")"
   ]
  },
  {
   "cell_type": "code",
   "execution_count": 46,
   "id": "c0f88e6b",
   "metadata": {},
   "outputs": [],
   "source": [
    "l = [1,2,3,4,5,6,\"Avi\",22.22]"
   ]
  },
  {
   "cell_type": "code",
   "execution_count": 47,
   "id": "58fa0000",
   "metadata": {},
   "outputs": [
    {
     "data": {
      "text/plain": [
       "[1, 2, 3, 4, 5, 6, 'Avi', 22.22]"
      ]
     },
     "execution_count": 47,
     "metadata": {},
     "output_type": "execute_result"
    }
   ],
   "source": [
    "l"
   ]
  },
  {
   "cell_type": "code",
   "execution_count": 57,
   "id": "b048989a",
   "metadata": {},
   "outputs": [
    {
     "name": "stdout",
     "output_type": "stream",
     "text": [
      "2\n",
      "3\n",
      "4\n",
      "5\n",
      "6\n",
      "7\n",
      "Avi1\n"
     ]
    }
   ],
   "source": [
    "for i in l :\n",
    "    if type(i) == int :\n",
    "        print(i+1)\n",
    "    elif type(i) == str:\n",
    "        print(i + str(1))\n",
    "    "
   ]
  },
  {
   "cell_type": "code",
   "execution_count": 58,
   "id": "413f454f",
   "metadata": {},
   "outputs": [
    {
     "data": {
      "text/plain": [
       "[1, 2, 3, 4, 5, 6, 'Avi', 22.22]"
      ]
     },
     "execution_count": 58,
     "metadata": {},
     "output_type": "execute_result"
    }
   ],
   "source": [
    "l"
   ]
  },
  {
   "cell_type": "code",
   "execution_count": 59,
   "id": "7596d508",
   "metadata": {},
   "outputs": [
    {
     "name": "stdout",
     "output_type": "stream",
     "text": [
      "2\n",
      "3\n",
      "4\n",
      "5\n",
      "6\n",
      "7\n",
      "Avi1\n",
      "23.22\n"
     ]
    }
   ],
   "source": [
    "for i in l :\n",
    "    if type(i) == int or type(i) == float :\n",
    "        print(i+1)\n",
    "    elif type(i) == str:\n",
    "        print(i + str(1))"
   ]
  },
  {
   "cell_type": "code",
   "execution_count": null,
   "id": "6f9093b8",
   "metadata": {},
   "outputs": [],
   "source": []
  }
 ],
 "metadata": {
  "kernelspec": {
   "display_name": "Python 3 (ipykernel)",
   "language": "python",
   "name": "python3"
  },
  "language_info": {
   "codemirror_mode": {
    "name": "ipython",
    "version": 3
   },
   "file_extension": ".py",
   "mimetype": "text/x-python",
   "name": "python",
   "nbconvert_exporter": "python",
   "pygments_lexer": "ipython3",
   "version": "3.9.7"
  }
 },
 "nbformat": 4,
 "nbformat_minor": 5
}
